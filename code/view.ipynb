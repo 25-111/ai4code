{
 "cells": [
  {
   "cell_type": "code",
   "execution_count": 1,
   "id": "53fc0b1a-f4e9-41dd-aa23-f15f13d13e49",
   "metadata": {},
   "outputs": [],
   "source": [
    "import pandas as pd"
   ]
  },
  {
   "cell_type": "code",
   "execution_count": 2,
   "id": "ce751db5-813f-41d2-b263-ffe526aac943",
   "metadata": {},
   "outputs": [],
   "source": [
    "df = pd.read_csv('../input/AI4Code/train.csv')"
   ]
  },
  {
   "cell_type": "code",
   "execution_count": 3,
   "id": "7d56eafc-8191-4723-bc25-1d659ebaad9e",
   "metadata": {},
   "outputs": [
    {
     "data": {
      "text/plain": [
       "((258560, 8), (491715, 8))"
      ]
     },
     "execution_count": 3,
     "metadata": {},
     "output_type": "execute_result"
    }
   ],
   "source": [
    "df[df.cell_type == \"markdown\"].shape, df[df.cell_type == \"code\"].shape"
   ]
  },
  {
   "cell_type": "code",
   "execution_count": 4,
   "id": "c8fcce20-c19c-4ae3-ac8a-ca58dcf18009",
   "metadata": {},
   "outputs": [],
   "source": [
    "df2 = pd.read_csv('../input/AI4Code/train2.csv')"
   ]
  },
  {
   "cell_type": "code",
   "execution_count": 5,
   "id": "44a90389-8bdc-40c8-b5de-ff9bdae57796",
   "metadata": {},
   "outputs": [
    {
     "data": {
      "text/plain": [
       "((2053420, 5), (3424255, 5))"
      ]
     },
     "execution_count": 5,
     "metadata": {},
     "output_type": "execute_result"
    }
   ],
   "source": [
    "df2[df2.cell_type == \"markdown\"].shape, df2[df2.cell_type == \"code\"].shape"
   ]
  },
  {
   "cell_type": "code",
   "execution_count": null,
   "id": "e61702b6-4632-4beb-85bc-13491c314cd7",
   "metadata": {},
   "outputs": [],
   "source": []
  }
 ],
 "metadata": {
  "kernelspec": {
   "display_name": "ai4code (Python 3.7)",
   "language": "python",
   "name": "ai4code"
  },
  "language_info": {
   "codemirror_mode": {
    "name": "ipython",
    "version": 3
   },
   "file_extension": ".py",
   "mimetype": "text/x-python",
   "name": "python",
   "nbconvert_exporter": "python",
   "pygments_lexer": "ipython3",
   "version": "3.7.13"
  }
 },
 "nbformat": 4,
 "nbformat_minor": 5
}
